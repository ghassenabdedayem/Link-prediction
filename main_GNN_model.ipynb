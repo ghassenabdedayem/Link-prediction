{
 "cells": [
  {
   "cell_type": "markdown",
   "id": "2781f542",
   "metadata": {},
   "source": [
    "# Import packages and functions"
   ]
  },
  {
   "cell_type": "code",
   "execution_count": 48,
   "id": "b0e5bade",
   "metadata": {},
   "outputs": [],
   "source": [
    "import numpy as np\n",
    "import pandas as pd \n",
    "from random import randint\n",
    "from time import time\n",
    "import torch\n",
    "import torch.nn as nn\n",
    "import torch.optim as optim\n",
    "import torch.nn.functional as F\n",
    "from sklearn.metrics import log_loss, accuracy_score\n",
    "from sklearn.decomposition import TruncatedSVD\n",
    "import matplotlib.pyplot as plt\n",
    "from scipy import sparse\n",
    "from io import BytesIO\n",
    "from urllib.request import urlopen\n",
    "import requests\n",
    "import pickle\n",
    "from datetime import datetime\n",
    "\n",
    "# Defined functions in the .py files\n",
    "from read_data import read_train_val_graph, read_and_clean_authors\n",
    "from data_processing_graph import create_and_normalize_adjacency\n",
    "from data_processing_authors import authors_to_sparse_mx\n",
    "\n",
    "device = torch.device(\"cuda\") if torch.cuda.is_available() else torch.device(\"cpu\")"
   ]
  },
  {
   "cell_type": "markdown",
   "id": "95b72876",
   "metadata": {},
   "source": [
    "# Load data from files"
   ]
  },
  {
   "cell_type": "markdown",
   "id": "a34d8f26",
   "metadata": {},
   "source": [
    "### Graph"
   ]
  },
  {
   "cell_type": "code",
   "execution_count": 30,
   "id": "ce851416",
   "metadata": {},
   "outputs": [
    {
     "name": "stdout",
     "output_type": "stream",
     "text": [
      "Number of nodes: 138499 number of edges: 1091955 in the Complete set\n",
      "Number of nodes: 138499 number of edges: 982062 in the Training set\n",
      "len(nodes) 138499\n",
      "Returned G_train, train_edges, val_edges, y_val, nodes and node_to_idx objects\n",
      "Loaded from edgelist.txt and with a training validation split ratio = 0.1\n"
     ]
    },
    {
     "name": "stderr",
     "output_type": "stream",
     "text": [
      "/Users/ghassenabdedayem/Documents/Data/Polytechnique/5- Data Challenge/data_challenge_2022/data_processing_graph.py:19: FutureWarning: adjacency_matrix will return a scipy.sparse array instead of a matrix in Networkx 3.0.\n",
      "  adj = nx.adjacency_matrix(G) # Obtains the adjacency matrix of the training graph\n"
     ]
    },
    {
     "name": "stdout",
     "output_type": "stream",
     "text": [
      "Created a normalized adjancency matrix of shape (138499, 138499)\n",
      "Created indices (2, 2102623) with the positions of non zeros in adj matrix\n",
      "Graph loaded and seperated, adjacency matrix created and normalized in 15 s\n"
     ]
    }
   ],
   "source": [
    "t = time()\n",
    "G, G_train, train_edges, val_indices, y_val, nodes, node_to_idx = read_train_val_graph()\n",
    "adj, indices = create_and_normalize_adjacency(G_train)\n",
    "\n",
    "print('Graph loaded and seperated, adjacency matrix created and normalized in {:.0f} s'.format(time()-t))"
   ]
  },
  {
   "cell_type": "markdown",
   "id": "bfe85e5d",
   "metadata": {},
   "source": [
    "### Authors"
   ]
  },
  {
   "cell_type": "code",
   "execution_count": 7,
   "id": "71551ac1",
   "metadata": {},
   "outputs": [
    {
     "name": "stdout",
     "output_type": "stream",
     "text": [
      "Authors loaded, transfomed and reduced to a (138499, 192) matrix in 20 sec\n"
     ]
    }
   ],
   "source": [
    "t = time()\n",
    "\n",
    "# We read authors and transform them into a sparse one hot vector representation\n",
    "auth_matrix = authors_to_sparse_mx(read_and_clean_authors())\n",
    "\n",
    "# Then we will reduce the dimensionality of authors matrix using TruncatedSVD\n",
    "n_components = 192  # Adjust the number of components as needed\n",
    "svd = TruncatedSVD(n_components=n_components)\n",
    "\n",
    "# Apply TruncatedSVD to the authors matrix\n",
    "authors_reduced = svd.fit_transform(auth_matrix)\n",
    "\n",
    "print('Authors loaded, transfomed and reduced to a {} matrix in {:.0f} sec'.format(authors_reduced.shape, time()-t))"
   ]
  },
  {
   "cell_type": "markdown",
   "id": "4bdcd23f",
   "metadata": {},
   "source": [
    "# Load preprocessed data"
   ]
  },
  {
   "cell_type": "markdown",
   "id": "49a4e7ce",
   "metadata": {},
   "source": [
    "### Random walks"
   ]
  },
  {
   "cell_type": "code",
   "execution_count": 15,
   "id": "a5ea47e0",
   "metadata": {},
   "outputs": [
    {
     "name": "stdout",
     "output_type": "stream",
     "text": [
      "wv walks of shape (138499, 64) loaded from GCP in 0 sec\n"
     ]
    }
   ],
   "source": [
    "t = time()\n",
    "walks_url = 'https://storage.googleapis.com/link_prediction_processed_data/walks_wv.npy'\n",
    "with urlopen(walks_url) as url:\n",
    "    data = url.read()\n",
    "\n",
    "# Create a seekable file-like object from the data\n",
    "fileobj = BytesIO(data)\n",
    "\n",
    "# Load the data from the file object\n",
    "walks_wv = np.load(fileobj)\n",
    "print('wv walks of shape {} loaded from GCP in {:.0f} sec'.format(walks_wv.shape, time()-t))"
   ]
  },
  {
   "cell_type": "markdown",
   "id": "34efb918",
   "metadata": {},
   "source": [
    "### BERT embedding"
   ]
  },
  {
   "cell_type": "code",
   "execution_count": 21,
   "id": "a7e1093b",
   "metadata": {},
   "outputs": [],
   "source": [
    "# Load BERT abstract embedding\n",
    "\n",
    "url = 'https://storage.googleapis.com/link_prediction_processed_data/sentence_embeddings_BERT.plk'\n",
    "\n",
    "response = requests.get(url)\n",
    "data = response.content\n",
    "bert_abstract_embedding = pickle.loads(data)"
   ]
  },
  {
   "cell_type": "markdown",
   "id": "8fb24386",
   "metadata": {},
   "source": [
    "### TF-IDF with authors"
   ]
  },
  {
   "cell_type": "code",
   "execution_count": 22,
   "id": "8337dc15",
   "metadata": {},
   "outputs": [
    {
     "data": {
      "text/plain": [
       "(138499, 136437)"
      ]
     },
     "execution_count": 22,
     "metadata": {},
     "output_type": "execute_result"
    }
   ],
   "source": [
    "# Load TF-IDF matrix of the abstracts concatenated with their respective authors\n",
    "\n",
    "url = \"https://storage.googleapis.com/link_prediction_processed_data/tfidf_author.npz\"\n",
    "\n",
    "response = requests.get(url)\n",
    "\n",
    "with open(\"tfidf_matrix.npz\", \"wb\") as f:\n",
    "    f.write(response.content)\n",
    "\n",
    "tfidf_matrix = sparse.load_npz(\"tfidf_matrix.npz\")\n",
    "\n",
    "tfidf_matrix.shape"
   ]
  },
  {
   "cell_type": "code",
   "execution_count": 23,
   "id": "2e26536d",
   "metadata": {},
   "outputs": [
    {
     "name": "stdout",
     "output_type": "stream",
     "text": [
      "tfidf reduced to (138499, 768) shape in 2 min to (138499, 768)\n"
     ]
    }
   ],
   "source": [
    "# Reduce the TF-IDF matrix using TrunkatedSVD\n",
    "t = time()\n",
    "\n",
    "# Initialize TruncatedSVD with desired number of components\n",
    "n_components = 768  # Adjust the number of components as needed\n",
    "svd = TruncatedSVD(n_components=n_components)\n",
    "\n",
    "# Apply TruncatedSVD to the TF-IDF matrix\n",
    "tfidf_reduced = svd.fit_transform(tfidf_matrix)\n",
    "\n",
    "# The tfidf_reduced matrix will have the reduced dimensionality based on TruncatedSVD\n",
    "print('tfidf reduced to {} shape in {:.0f} min to {}'.format(tfidf_reduced.shape, (time()-t)/60, tfidf_reduced.shape))\n"
   ]
  },
  {
   "cell_type": "markdown",
   "id": "87861ea1",
   "metadata": {},
   "source": [
    "# Model"
   ]
  },
  {
   "cell_type": "code",
   "execution_count": 24,
   "id": "704a427c",
   "metadata": {},
   "outputs": [],
   "source": [
    "class GNN(nn.Module):\n",
    "    def __init__(self, n_text, n_text_auth, n_auth, n_feat, n_hidden, n_class, sub_class, dropout):\n",
    "        super(GNN, self).__init__()\n",
    "        self.abstract_emb = nn.Linear(n_text_auth, n_hidden)\n",
    "        # self.abst_auth = nn.Linear(n_text_auth, n_hidden)\n",
    "        self.auth_emb = nn.Linear(n_auth, n_hidden)\n",
    "        self.fc1 = nn.Linear(n_feat+2*n_hidden, n_hidden)        \n",
    "        self.fc2 = nn.Linear(n_hidden, n_hidden)\n",
    "        self.fc21 = nn.Linear(n_hidden, n_hidden)\n",
    "        self.fc3 = nn.Linear(2*n_hidden, n_hidden)\n",
    "        self.fc4 = nn.Linear(n_hidden, sub_class)\n",
    "        self.fc5 = nn.Linear(sub_class, n_class)        \n",
    "        self.dropout = nn.Dropout(dropout)\n",
    "        self.relu = nn.ReLU()\n",
    "        self.sigmoid = nn.Sigmoid()\n",
    "        self.norm = nn.LayerNorm(n_auth+n_text+n_feat+n_text_auth)\n",
    "        \n",
    "        \n",
    "\n",
    "    def forward(self, x_in, abstract, abst_auth, auth, adj, pairs):\n",
    "\n",
    "        #y = torch.cat((abstract, abst_auth, auth, x_in), dim=1)\n",
    "        #y = torch.cat((abstract, auth, abst_auth, x_in), dim=1)\n",
    "        #y = self.norm(y)\n",
    "        y = self.abstract_emb(abstract)\n",
    "        y = self.relu(y)\n",
    "        y = self.dropout(y)\n",
    "        del(abstract)\n",
    "\n",
    "        # yz = self.abst_auth(abst_auth)\n",
    "        # yz = self.relu(yz)\n",
    "        # yz = self.dropout(yz)\n",
    "        del(abst_auth)\n",
    "\n",
    "        z = self.auth_emb(auth)\n",
    "        z = self.relu(z)\n",
    "        z = self.dropout(z)\n",
    "        del(auth)\n",
    "\n",
    "        x_in = torch.cat((x_in, y, z), dim=1)\n",
    "\n",
    "        \n",
    "        h1 = self.fc1(x_in)\n",
    "        z1 = self.relu(torch.spmm(adj, h1))\n",
    "        z1 = self.dropout(z1)\n",
    "        #del(y)\n",
    "\n",
    "        h2 = self.fc2(z1)\n",
    "        z2 = self.relu(torch.spmm(adj, h2))\n",
    "        z2 = self.dropout(z2)\n",
    "        del(h2, z1)\n",
    "\n",
    "        h2 = self.fc21(z2)\n",
    "        z2 = self.relu(torch.spmm(adj, h2))\n",
    "        z2 = self.dropout(z2)\n",
    "\n",
    "\n",
    "        z2 = torch.cat((z2, h1), dim=1)\n",
    "\n",
    "        x = z2[pairs[0]] - z2[pairs[1]]\n",
    "        # x = torch.cat((z2[pairs[0]] , z2[pairs[1]]), dim=1)\n",
    "        del(z2)\n",
    "\n",
    "        x = self.relu(self.fc3(x))\n",
    "        x = self.dropout(x)\n",
    "    \n",
    "        del(pairs)\n",
    "        \n",
    "        x = self.relu(self.fc4(x))\n",
    "        x = self.dropout(x)\n",
    "        \n",
    "        x = self.fc5(x)\n",
    "        return F.log_softmax(x, dim=1)\n",
    "\n",
    "\n"
   ]
  },
  {
   "cell_type": "code",
   "execution_count": 25,
   "id": "9fe3dd3e",
   "metadata": {},
   "outputs": [],
   "source": [
    "def train_model(model, learning_rate, abstract, text_auth, auth, features, adj, indices, val_edges, epochs, run_number, window = 10):\n",
    "    # Train model\n",
    "    start_time = time()\n",
    "    \n",
    "    print('Initializing the optimizer with learning rate:', learning_rate)\n",
    "    optimizer = optim.Adam(model.parameters(), lr=learning_rate) #optimizer with halving learning rate in training\n",
    "    try: os.mkdir('./outputs')\n",
    "    except: pass\n",
    "\n",
    "    today = datetime.today().strftime('%Y-%m-%d-%H:%M')\n",
    "    list_loss_val = []\n",
    "    list_loss_train = []\n",
    "    list_epochs = []\n",
    "\n",
    "    \n",
    "\n",
    "\n",
    "    # Create negative edges by taking a random pairs of nodes (there is 1/10,000 chance of getting a positive edge)\n",
    "    rand_indices = torch.randint(0, features.shape[0], size=(indices.shape[0],indices.shape[1])).to(device)\n",
    "    pairs = torch.cat((indices, rand_indices), dim=1)\n",
    "    \n",
    "    # Create class labels\n",
    "    y = np.zeros(2*indices.shape[1])\n",
    "    y[:indices.shape[1]] = 1 # Concatenated ones for edges indices and later in the model we add zeros for random indices.\n",
    "    y = torch.LongTensor(y).to(device)\n",
    "\n",
    "    # Creating negative val indices by taking random pairs of nodes\n",
    "    rand_indices = torch.randint(0, features.shape[0], size=(val_edges.shape[0],val_edges.shape[1])).to(device)\n",
    "    val_indices = torch.cat((val_edges, rand_indices), dim=1)\n",
    "    \n",
    "    # Creating class labels for val indices\n",
    "    y_val = [1]*len(val_edges)\n",
    "    y_val.extend([0]*len(val_edges))\n",
    "    \n",
    "    print('Start training...')\n",
    "\n",
    "    for epoch in range(epochs):\n",
    "        t = time()\n",
    "        optimizer.zero_grad()     \n",
    "\n",
    "        model.train()\n",
    "        output = model(features, abstract, text_auth, auth, adj, pairs).to(device) # we run the model that gives the output.\n",
    "        loss_train = F.nll_loss(output, y) # we are using nll_loss as loss to optimize, we store it in loss_train. We compare to y which is stable and contains the tag ones and zeros.\n",
    "        acc_train = accuracy_score(torch.argmax(output, dim=1).detach().cpu().numpy(), y.cpu().numpy())# just to show it in the out put message of the training\n",
    "        loss_train.backward() # The back propagation ? --> Computes the gradient of current tensor w.r.t. graph leaves\n",
    "        optimizer.step() # Performs a single optimization step (parameter update).\n",
    "        \n",
    "        model.eval()\n",
    "        output = model(features, abstract, text_auth, auth, adj, val_indices).to(device)\n",
    "        #y_val = torch.LongTensor(y_val).to(device)\n",
    "        loss_val = F.nll_loss(output, y_val)\n",
    "        list_loss_val.append(loss_val.item())\n",
    "        list_loss_train.append(loss_train.item())\n",
    "        list_epochs.append(epoch)\n",
    "        acc_val = accuracy_score(torch.argmax(output, dim=1).detach().cpu().numpy(), y_val.cpu().numpy())        \n",
    "\n",
    "\n",
    "        if epoch % 5 == 0:\n",
    "            print('Epoch: {:03d}'.format(epoch+1),\n",
    "                  'loss_train: {:.4f}'.format(loss_train.item()),\n",
    "                  'loss_val: {:.4f}'.format(loss_val.item()),\n",
    "                  'acc_train: {:.4f}'.format(acc_train.item()),\n",
    "                  'acc_val: {:.4f}'.format(acc_val.item()),\n",
    "                  'time: {} s'.format(int(round(time()) - round(t))),\n",
    "                 'total_time: {} min'.format(round((time() - start_time)/60)))\n",
    "            \n",
    "\n",
    "\n",
    "    print(\"Optimization Finished in {} min!\".format(round((time() - start_time)/60)))\n",
    "    return model, list_loss_val, list_loss_train, list_epochs\n",
    "\n"
   ]
  },
  {
   "cell_type": "code",
   "execution_count": 32,
   "id": "94ab639d",
   "metadata": {},
   "outputs": [],
   "source": [
    "def sparse_mx_to_torch_sparse_tensor(sparse_mx):\n",
    "    sparse_mx = sparse_mx.tocoo().astype(np.float32)\n",
    "    indices = torch.from_numpy(np.vstack((sparse_mx.row, sparse_mx.col)).astype(np.int64))\n",
    "    values = torch.from_numpy(sparse_mx.data)\n",
    "    shape = torch.Size(sparse_mx.shape)\n",
    "    return torch.sparse.FloatTensor(indices, values, shape)\n",
    "\n",
    "\n",
    "def prepare_data_to_train (features, adj, auth_matrix, indices, val_indices, y_val):\n",
    "    \n",
    "    print('Preparing the data for training...')\n",
    "    \n",
    "    t = time()\n",
    "    \n",
    "    y_val = torch.LongTensor(y_val).to(device)\n",
    "    \n",
    "    features = torch.FloatTensor(features).to(device)\n",
    "    \n",
    "    indices = torch.LongTensor(indices).to(device)\n",
    "    val_indices = torch.LongTensor(val_indices).to(device)\n",
    "    adj = sparse_mx_to_torch_sparse_tensor(adj).to(device)\n",
    "    auth_matrix = sparse_mx_to_torch_sparse_tensor(auth_matrix).to(device)\n",
    "    \n",
    "    print('Data converted into torch tensors in {:.0f} min'.format((time()-t)/60))\n",
    "\n",
    "    return features, adj, auth_matrix, indices, val_indices, y_val "
   ]
  },
  {
   "cell_type": "code",
   "execution_count": 33,
   "id": "78d1233d",
   "metadata": {},
   "outputs": [
    {
     "name": "stdout",
     "output_type": "stream",
     "text": [
      "Preparing the data for training...\n",
      "Data converted into torch tensors and authors added to indices in 0 min\n"
     ]
    }
   ],
   "source": [
    "features_torch, adj_torch, auth_torch, indices_torch, val_indices_torch, y_val_torch = prepare_data_to_train(walks_wv, adj, auth_matrix, indices, val_indices, y_val)\n",
    "tfidf_matrix_torch = torch.FloatTensor(tfidf_reduced).to(device)\n",
    "authors_reduced_torch = torch.FloatTensor(authors_reduced).to(device)\n",
    "bert_abstract_torch = torch.FloatTensor(bert_abstract_embedding).to(device)"
   ]
  },
  {
   "cell_type": "code",
   "execution_count": 44,
   "id": "55637267",
   "metadata": {},
   "outputs": [
    {
     "name": "stdout",
     "output_type": "stream",
     "text": [
      "Initializing the optimizer with learning rate: 0.01\n",
      "Start training...\n",
      "Epoch: 001 loss_train: 0.6923 loss_val: 0.6807 acc_train: 0.5327 acc_val: 0.5031 time: 18 s total_time: 0 min\n",
      "Epoch: 006 loss_train: 0.5559 loss_val: 0.5283 acc_train: 0.7170 acc_val: 0.7492 time: 8 s total_time: 1 min\n",
      "Epoch: 011 loss_train: 0.4391 loss_val: 0.4037 acc_train: 0.8320 acc_val: 0.8547 time: 10 s total_time: 2 min\n",
      "Epoch: 016 loss_train: 0.3299 loss_val: 0.3163 acc_train: 0.8700 acc_val: 0.8741 time: 8 s total_time: 3 min\n",
      "Epoch: 021 loss_train: 0.2675 loss_val: 0.2478 acc_train: 0.8932 acc_val: 0.9002 time: 9 s total_time: 3 min\n",
      "Epoch: 026 loss_train: 0.2229 loss_val: 0.2076 acc_train: 0.9140 acc_val: 0.9182 time: 9 s total_time: 4 min\n",
      "Epoch: 031 loss_train: 0.2014 loss_val: 0.1856 acc_train: 0.9234 acc_val: 0.9275 time: 9 s total_time: 5 min\n",
      "Epoch: 036 loss_train: 0.1920 loss_val: 0.1818 acc_train: 0.9274 acc_val: 0.9284 time: 9 s total_time: 6 min\n",
      "Epoch: 041 loss_train: 0.1791 loss_val: 0.1701 acc_train: 0.9326 acc_val: 0.9336 time: 8 s total_time: 6 min\n",
      "Epoch: 046 loss_train: 0.1696 loss_val: 0.1610 acc_train: 0.9363 acc_val: 0.9381 time: 8 s total_time: 7 min\n",
      "Epoch: 051 loss_train: 0.1622 loss_val: 0.1542 acc_train: 0.9401 acc_val: 0.9411 time: 8 s total_time: 8 min\n",
      "Epoch: 056 loss_train: 0.1547 loss_val: 0.1486 acc_train: 0.9428 acc_val: 0.9443 time: 8 s total_time: 8 min\n",
      "Epoch: 061 loss_train: 0.1492 loss_val: 0.1433 acc_train: 0.9449 acc_val: 0.9464 time: 8 s total_time: 9 min\n",
      "Epoch: 066 loss_train: 0.1451 loss_val: 0.1390 acc_train: 0.9464 acc_val: 0.9490 time: 9 s total_time: 10 min\n",
      "Epoch: 071 loss_train: 0.1425 loss_val: 0.1347 acc_train: 0.9474 acc_val: 0.9506 time: 8 s total_time: 11 min\n",
      "Epoch: 076 loss_train: 0.1364 loss_val: 0.1422 acc_train: 0.9504 acc_val: 0.9467 time: 9 s total_time: 11 min\n",
      "Epoch: 081 loss_train: 0.1333 loss_val: 0.1298 acc_train: 0.9519 acc_val: 0.9523 time: 8 s total_time: 12 min\n",
      "Epoch: 086 loss_train: 0.1304 loss_val: 0.1290 acc_train: 0.9525 acc_val: 0.9526 time: 8 s total_time: 13 min\n",
      "Epoch: 091 loss_train: 0.1275 loss_val: 0.1295 acc_train: 0.9541 acc_val: 0.9524 time: 9 s total_time: 14 min\n",
      "Epoch: 096 loss_train: 0.1256 loss_val: 0.1275 acc_train: 0.9550 acc_val: 0.9534 time: 9 s total_time: 14 min\n",
      "Epoch: 101 loss_train: 0.1235 loss_val: 0.1268 acc_train: 0.9560 acc_val: 0.9538 time: 9 s total_time: 15 min\n",
      "Epoch: 106 loss_train: 0.1213 loss_val: 0.1265 acc_train: 0.9568 acc_val: 0.9542 time: 9 s total_time: 16 min\n",
      "Epoch: 111 loss_train: 0.1188 loss_val: 0.1213 acc_train: 0.9574 acc_val: 0.9564 time: 9 s total_time: 17 min\n",
      "Epoch: 116 loss_train: 0.1193 loss_val: 0.1198 acc_train: 0.9569 acc_val: 0.9571 time: 8 s total_time: 17 min\n",
      "Epoch: 121 loss_train: 0.1227 loss_val: 0.1221 acc_train: 0.9553 acc_val: 0.9562 time: 10 s total_time: 18 min\n",
      "Epoch: 126 loss_train: 0.1172 loss_val: 0.1206 acc_train: 0.9582 acc_val: 0.9570 time: 9 s total_time: 19 min\n",
      "Epoch: 131 loss_train: 0.1151 loss_val: 0.1208 acc_train: 0.9590 acc_val: 0.9573 time: 9 s total_time: 20 min\n",
      "Epoch: 136 loss_train: 0.1131 loss_val: 0.1208 acc_train: 0.9599 acc_val: 0.9571 time: 9 s total_time: 20 min\n",
      "Optimization Finished in 21 min!\n"
     ]
    }
   ],
   "source": [
    "torch.cuda.empty_cache()\n",
    "\n",
    "#Create the model\n",
    "n_hidden = 64\n",
    "dropout_rate = 0.2\n",
    "sub_class = 16\n",
    "n_class = 2\n",
    "text_embedding = bert_abstract_torch\n",
    "text_auth_emb = tfidf_matrix_torch\n",
    "n_text = text_embedding.shape[1]\n",
    "n_text_auth = text_auth_emb.shape[1]\n",
    "n_auth = authors_reduced_torch.shape[1] \n",
    "n_features = features_torch.shape[1]\n",
    "\n",
    "model = GNN(n_text, n_text_auth, n_auth, n_features, n_hidden, n_class, sub_class, dropout_rate).to(device)\n",
    "\n",
    "\n",
    "# Train the model\n",
    "epochs = 140\n",
    "run_number = randint(0, 1000)\n",
    "learning_rate = 0.01\n",
    "\n",
    "trained_model, list_loss_val, list_loss_train, list_epochs = train_model(model, learning_rate, text_embedding, \n",
    "                            text_auth_emb, authors_reduced_torch, features_torch, adj_torch, indices_torch, \n",
    "                            val_indices_torch, y_val_torch, epochs, run_number)\n"
   ]
  },
  {
   "cell_type": "code",
   "execution_count": 49,
   "id": "507a3296",
   "metadata": {},
   "outputs": [
    {
     "data": {
      "image/png": "[encoded data removed]",
      "text/plain": [
       "<Figure size 640x480 with 1 Axes>"
      ]
     },
     "metadata": {},
     "output_type": "display_data"
    }
   ],
   "source": [
    "%matplotlib inline\n",
    "\n",
    "length = 200\n",
    "\n",
    "y1 = pd.Series(list_loss_val[:length])\n",
    "y2 = pd.Series(list_loss_train[:length])\n",
    "x = pd.Series(list_epochs[:length])\n",
    "\n",
    "\n",
    "\n",
    "\n",
    "plt.plot(x, y1, label='Validation Loss')\n",
    "plt.plot(x, y2, label='Training Loss')\n",
    "\n",
    "plt.title('Loss over Epochs')\n",
    "plt.xlabel('Epoch')\n",
    "plt.ylabel('Loss')\n",
    "plt.legend()\n",
    "plt.show()"
   ]
  },
  {
   "cell_type": "markdown",
   "id": "26caeed0",
   "metadata": {},
   "source": [
    "# Generate test file"
   ]
  },
  {
   "cell_type": "code",
   "execution_count": 47,
   "id": "e1a18c3e",
   "metadata": {},
   "outputs": [],
   "source": [
    "from datetime import datetime\n",
    "import re\n",
    "\n",
    "test_path = 'https://www.lix.polytechnique.fr/~nikolentzos/files/aai/challenge/test.txt'\n",
    "node_pairs = list()\n",
    "f = urlopen(test_path)\n",
    "\n",
    "for line in f:\n",
    "    t = str(line).split(',')\n",
    "    t[0] = int(re.sub(\"[^0-9]\", \"\", t[0]))\n",
    "    t[1] = int(re.sub(\"[^0-9]\", \"\", t[1]))\n",
    "    node_pairs.append((node_to_idx[int(t[0])], node_to_idx[int(t[1])]))\n",
    "\n",
    "node_pairs = np.transpose(node_pairs)\n",
    "#node_pairs = add_authors_to_pairs(node_pairs, authors)\n",
    "#node_pairs = torch.LongTensor(node_pairs).to(device)\n",
    "\n",
    "adj_torch = sparse_mx_to_torch_sparse_tensor(adj).to(device)\n",
    "features_torch = torch.FloatTensor(walks_wv).to(device)\n",
    "\n",
    "test_output = model(features_torch, text_embedding, text_auth_emb, authors_reduced_torch, adj_torch, node_pairs)\n",
    "y_pred = torch.exp(test_output)\n",
    "y_pred = y_pred.detach().cpu().numpy()\n",
    "\n",
    "y_pred_true = list()\n",
    "for element in y_pred:\n",
    "    y_pred_true.append(element[1])\n",
    "\n",
    "today = datetime.today().strftime('%Y-%m-%d')\n",
    "random_nb = randint(0, 1000)\n",
    "model_nb = 2\n",
    "\n",
    "pd.DataFrame(y_pred_true, columns=['predicted']).to_csv(\n",
    "\"{}-submission-{}-{}.csv\".format(today, model_nb, random_nb), header=True, index=True, index_label='id'\n",
    ")"
   ]
  }
 ],
 "metadata": {
  "kernelspec": {
   "display_name": "Python 3 (ipykernel)",
   "language": "python",
   "name": "python3"
  },
  "language_info": {
   "codemirror_mode": {
    "name": "ipython",
    "version": 3
   },
   "file_extension": ".py",
   "mimetype": "text/x-python",
   "name": "python",
   "nbconvert_exporter": "python",
   "pygments_lexer": "ipython3",
   "version": "3.8.3"
  }
 },
 "nbformat": 4,
 "nbformat_minor": 5
}
