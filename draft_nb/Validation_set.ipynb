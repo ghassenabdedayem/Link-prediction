{
 "cells": [
  {
   "cell_type": "code",
   "execution_count": 1,
   "id": "707d19e5",
   "metadata": {},
   "outputs": [
    {
     "name": "stderr",
     "output_type": "stream",
     "text": [
      "2023-03-13 21:13:22.629146: I tensorflow/core/platform/cpu_feature_guard.cc:193] This TensorFlow binary is optimized with oneAPI Deep Neural Network Library (oneDNN) to use the following CPU instructions in performance-critical operations:  SSE4.1 SSE4.2 AVX AVX2 FMA\n",
      "To enable them in other operations, rebuild TensorFlow with the appropriate compiler flags.\n"
     ]
    }
   ],
   "source": [
    "import csv\n",
    "import networkx as nx\n",
    "import numpy as np\n",
    "from random import randint\n",
    "from random import random\n",
    "from sklearn.linear_model import LogisticRegression\n",
    "from sklearn.ensemble import RandomForestClassifier\n",
    "import matplotlib.pyplot as plt\n",
    "from sklearn.metrics import log_loss, accuracy_score\n",
    "from random import choice\n",
    "from gensim.models import Word2Vec\n",
    "import keras\n",
    "import pandas as pd\n",
    "from unidecode import unidecode\n",
    "\n",
    "from sklearn.linear_model import LogisticRegression\n",
    "\n",
    "\n",
    "from scipy.sparse import identity, diags\n",
    "\n",
    "import torch\n",
    "import torch.nn as nn\n",
    "import torch.optim as optim\n",
    "import torch.nn.functional as F\n",
    "\n",
    "\n",
    "device = torch.device(\"cuda\") if torch.cuda.is_available() else torch.device(\"cpu\")"
   ]
  },
  {
   "cell_type": "code",
   "execution_count": 2,
   "id": "e30d1ef5",
   "metadata": {},
   "outputs": [
    {
     "name": "stdout",
     "output_type": "stream",
     "text": [
      "Number of nodes of total set: 138499\n",
      "Number of edges of total set: 1091955\n",
      "Number of nodes of training set: 138499\n",
      "Number of edges of training set: 982718\n"
     ]
    }
   ],
   "source": [
    "G = nx.read_edgelist('../input_data/edgelist.txt', delimiter=',', create_using=nx.Graph(), nodetype=int)\n",
    "nodes = list(G.nodes())\n",
    "n = G.number_of_nodes()\n",
    "m = G.number_of_edges()\n",
    "edges = list(G.edges())\n",
    "\n",
    "print('Number of nodes of total set:', n)\n",
    "print('Number of edges of total set:', m)\n",
    "\n",
    "node_to_idx = dict()\n",
    "for i, node in enumerate(nodes):\n",
    "    node_to_idx[node] = i\n",
    "\n",
    "val_edges = list()\n",
    "G_train = G\n",
    "\n",
    "for edge in edges:\n",
    "    if random() < 0.1:\n",
    "        val_edges.append(edge)\n",
    "\n",
    "# We remove the val edges from the graph G\n",
    "for edge in val_edges:\n",
    "    G_train.remove_edge(edge[0], edge[1])\n",
    "\n",
    "n = G_train.number_of_nodes()\n",
    "m = G_train.number_of_edges()\n",
    "train_edges = list(G_train.edges())\n",
    "    \n",
    "print('Number of nodes of training set:', n)\n",
    "print('Number of edges of training set:', m)\n",
    "\n",
    "y_val = [1]*len(val_edges)\n",
    "\n",
    "n_val_edges = len(val_edges)\n",
    "\n",
    "# Create random pairs of nodes (testing negative edges)\n",
    "for i in range(n_val_edges):\n",
    "    n1 = nodes[randint(0, n-1)]\n",
    "    n2 = nodes[randint(0, n-1)]\n",
    "    (n1, n2) = (min(n1, n2), max(n1, n2))\n",
    "    val_edges.append((n1, n2))\n",
    "    \n",
    "# Remove from val_edges edges that exist in both train and val\n",
    "# for edge in list(set(val_edges) & set(train_edges)):\n",
    "#     val_edges.remove(edge)\n",
    "    \n",
    "# n_val_edges = len(val_edges) # - len(y_val) #because we removed from val_edges edges that exist in both\n",
    "y_val.extend([0]*(n_val_edges))"
   ]
  },
  {
   "cell_type": "code",
   "execution_count": 3,
   "id": "e5849c2c",
   "metadata": {},
   "outputs": [],
   "source": [
    "def random_walk(G, node, walk_length):\n",
    "    walk = [node]\n",
    "  \n",
    "    for i in range(walk_length-1):\n",
    "        neibor_nodes = list(G.neighbors(walk[-1]))\n",
    "        if len(neibor_nodes) > 0:\n",
    "            next_node = choice(neibor_nodes)\n",
    "            walk.append(next_node)\n",
    "    walk = [str(node) for node in walk] # in case the nodes are in string format, we don't need to cast into string, but if the nodes are in numeric or integer, we need this line to cast into string\n",
    "    return walk\n",
    "\n",
    "def generate_walks(G, num_walks, walk_length):\n",
    "  # Runs \"num_walks\" random walks from each node, and returns a list of all random walk\n",
    "    walks = list()  \n",
    "    for i in range(num_walks):\n",
    "        for node in G.nodes():\n",
    "            walk = random_walk(G, node, walk_length)\n",
    "            walks.append(walk)\n",
    "        #print('walks : ', walks)\n",
    "    return walks"
   ]
  },
  {
   "cell_type": "code",
   "execution_count": 4,
   "id": "d629cc0c",
   "metadata": {},
   "outputs": [],
   "source": [
    "walks = generate_walks(G=G_train, num_walks=10, walk_length=15)"
   ]
  },
  {
   "cell_type": "code",
   "execution_count": 5,
   "id": "17e204bf",
   "metadata": {},
   "outputs": [
    {
     "data": {
      "text/plain": [
       "(102878850, 102878850)"
      ]
     },
     "execution_count": 5,
     "metadata": {},
     "output_type": "execute_result"
    }
   ],
   "source": [
    "wv_model = Word2Vec(vector_size=128, window=5, min_count=0, sg=1, workers=8)\n",
    "wv_model.build_vocab(walks)\n",
    "wv_model.train(walks, total_examples=wv_model.corpus_count, epochs=5) "
   ]
  },
  {
   "cell_type": "code",
   "execution_count": 6,
   "id": "3fbd6cb6",
   "metadata": {},
   "outputs": [],
   "source": [
    "# features initializaed with word2vec embedding of the random walks\n",
    "features_np = []\n",
    "for node in G_train.nodes():\n",
    "    features_np.append(wv_model.wv[str(node)])\n",
    "\n",
    "features_np = np.array(features_np)"
   ]
  },
  {
   "cell_type": "code",
   "execution_count": 18,
   "id": "e79e9948",
   "metadata": {},
   "outputs": [],
   "source": [
    "# Create class labels\n",
    "y = np.zeros(4*G_train.number_of_edges())\n",
    "y[:2*G_train.number_of_edges()] = 1 # Concatenated ones for edges indices and later in the model we add zeros for random indices.\n"
   ]
  },
  {
   "cell_type": "code",
   "execution_count": 44,
   "id": "7f2881e2",
   "metadata": {},
   "outputs": [
    {
     "data": {
      "text/plain": [
       "103345"
      ]
     },
     "execution_count": 44,
     "metadata": {},
     "output_type": "execute_result"
    }
   ],
   "source": [
    "features_np[train_edges[0][0]]\n",
    "train_edges[300][1]"
   ]
  },
  {
   "cell_type": "code",
   "execution_count": null,
   "id": "0376c841",
   "metadata": {},
   "outputs": [],
   "source": [
    "# Use logistic regression to predict if two nodes are linked by an edge\n",
    "clf = LogisticRegression()\n",
    "clf.fit(X_train, y)\n",
    "y_pred = clf.predict_proba(X_test)\n",
    "y_pred = y_pred[:,1]"
   ]
  },
  {
   "cell_type": "code",
   "execution_count": 32,
   "id": "c11cf21a",
   "metadata": {},
   "outputs": [
    {
     "name": "stdout",
     "output_type": "stream",
     "text": [
      "78297 (43396, 48847) 1\n",
      "10622 (86116, 110265) 1\n",
      "159625 (8696, 132796) 0\n",
      "25512 (33493, 72343) 1\n",
      "19707 (53809, 65018) 1\n",
      "144285 (65809, 66383) 0\n",
      "44028 (21847, 26508) 1\n",
      "40574 (1502, 83203) 1\n",
      "147814 (56915, 58622) 0\n",
      "37875 (11853, 10524) 1\n",
      "\n",
      " 218474 (9951, 115632) 0\n"
     ]
    }
   ],
   "source": [
    "for i in range (10):\n",
    "    r = randint(0, len(val_edges))\n",
    "    print(r, val_edges[r], y_val[r])\n",
    "\n",
    "    \n",
    "r = len(val_edges)\n",
    "print('\\n',r, val_edges[r-1], y_val[r-1])\n",
    "# i, element in enumerate(val_edges):\n",
    "#     print(i, element)\n",
    "#     break"
   ]
  },
  {
   "cell_type": "code",
   "execution_count": 33,
   "id": "617b1f27",
   "metadata": {},
   "outputs": [
    {
     "data": {
      "text/plain": [
       "(138499, 128)"
      ]
     },
     "execution_count": 33,
     "metadata": {},
     "output_type": "execute_result"
    }
   ],
   "source": [
    "features_np.shape"
   ]
  }
 ],
 "metadata": {
  "kernelspec": {
   "display_name": "Python 3 (ipykernel)",
   "language": "python",
   "name": "python3"
  },
  "language_info": {
   "codemirror_mode": {
    "name": "ipython",
    "version": 3
   },
   "file_extension": ".py",
   "mimetype": "text/x-python",
   "name": "python",
   "nbconvert_exporter": "python",
   "pygments_lexer": "ipython3",
   "version": "3.8.3"
  }
 },
 "nbformat": 4,
 "nbformat_minor": 5
}
