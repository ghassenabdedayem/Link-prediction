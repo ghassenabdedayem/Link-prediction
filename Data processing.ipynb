{
 "cells": [
  {
   "cell_type": "code",
   "execution_count": 1,
   "id": "9798361c",
   "metadata": {},
   "outputs": [],
   "source": [
    "from read_data import read_train_val_graph"
   ]
  },
  {
   "cell_type": "code",
   "execution_count": 2,
   "id": "3351bd98",
   "metadata": {},
   "outputs": [
    {
     "name": "stdout",
     "output_type": "stream",
     "text": [
      "Help on function read_train_val_graph in module read_data:\n",
      "\n",
      "read_train_val_graph(path='https://www.lix.polytechnique.fr/~nikolentzos/files/aai/challenge/edgelist.txt', val_ratio=0.1)\n",
      "\n"
     ]
    }
   ],
   "source": []
  }
 ],
 "metadata": {
  "kernelspec": {
   "display_name": "Python 3 (ipykernel)",
   "language": "python",
   "name": "python3"
  },
  "language_info": {
   "codemirror_mode": {
    "name": "ipython",
    "version": 3
   },
   "file_extension": ".py",
   "mimetype": "text/x-python",
   "name": "python",
   "nbconvert_exporter": "python",
   "pygments_lexer": "ipython3",
   "version": "3.8.3"
  }
 },
 "nbformat": 4,
 "nbformat_minor": 5
}
